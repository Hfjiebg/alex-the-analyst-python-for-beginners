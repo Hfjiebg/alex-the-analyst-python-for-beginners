{
 "cells": [
  {
   "cell_type": "markdown",
   "id": "1dbaa8f7-6238-4490-87ac-1d03e9be5b41",
   "metadata": {},
   "source": [
    "URL : https://youtu.be/ECduJk00mUU?si=tfHBiKA75RATdNcm"
   ]
  },
  {
   "cell_type": "markdown",
   "id": "eddeb5f6-6a55-4eee-ac07-944346b8d326",
   "metadata": {},
   "source": [
    "## Syntax of while loop"
   ]
  },
  {
   "cell_type": "code",
   "execution_count": 5,
   "id": "7608fca7-ae1e-4464-b5ef-3cae64557066",
   "metadata": {},
   "outputs": [
    {
     "name": "stdout",
     "output_type": "stream",
     "text": [
      "0\n",
      "1\n",
      "2\n",
      "3\n",
      "4\n"
     ]
    }
   ],
   "source": [
    "number = 0\n",
    "while number < 5:\n",
    "    print (number)\n",
    "    number = number + 1"
   ]
  },
  {
   "cell_type": "markdown",
   "id": "52f064ff-c1de-4be9-836a-85a2590ea6d0",
   "metadata": {},
   "source": [
    "## Break statement in while loop"
   ]
  },
  {
   "cell_type": "code",
   "execution_count": 10,
   "id": "459c455d-b65b-4128-b036-a6a124d35c75",
   "metadata": {},
   "outputs": [
    {
     "name": "stdout",
     "output_type": "stream",
     "text": [
      "0\n",
      "1\n",
      "2\n",
      "3\n"
     ]
    }
   ],
   "source": [
    "number = 0\n",
    "while number < 5:\n",
    "    print (number)\n",
    "    if number == 3:\n",
    "        break\n",
    "    number = number + 1"
   ]
  },
  {
   "cell_type": "code",
   "execution_count": 20,
   "id": "1bd7a7c5-e7d9-4f44-9abf-c4c0f58beebd",
   "metadata": {},
   "outputs": [
    {
     "name": "stdout",
     "output_type": "stream",
     "text": [
      "0\n",
      "1\n",
      "2\n",
      "3\n",
      "4\n",
      "No longer less than 5\n"
     ]
    }
   ],
   "source": [
    "number = 0\n",
    "while number < 5:\n",
    "    print (number)\n",
    "    if number == 6:\n",
    "        break\n",
    "    number = number + 1\n",
    "else:\n",
    "    print ('No longer less than 5')"
   ]
  },
  {
   "cell_type": "code",
   "execution_count": 22,
   "id": "3fc7ea38-c124-4767-b3f2-13e7f18e2453",
   "metadata": {},
   "outputs": [
    {
     "name": "stdout",
     "output_type": "stream",
     "text": [
      "0\n",
      "1\n",
      "2\n",
      "3\n"
     ]
    }
   ],
   "source": [
    "number = 0\n",
    "while number < 5:\n",
    "    print (number)\n",
    "    if number == 3:\n",
    "        break\n",
    "    number = number + 1\n",
    "else:\n",
    "    print ('No longer less than 5')"
   ]
  },
  {
   "cell_type": "markdown",
   "id": "4cfea020-c51a-48a8-9d81-f574f229e512",
   "metadata": {},
   "source": [
    "## Continue statement in while loop"
   ]
  },
  {
   "cell_type": "code",
   "execution_count": 46,
   "id": "6f48494a-d0cb-4927-ac63-aaf7d30cf450",
   "metadata": {},
   "outputs": [
    {
     "name": "stdout",
     "output_type": "stream",
     "text": [
      "1\n",
      "2\n",
      "4\n",
      "5\n",
      "No longer less than 5\n"
     ]
    }
   ],
   "source": [
    "number = 0\n",
    "\n",
    "while number < 5:\n",
    "    number = number + 1\n",
    "    if number == 3:\n",
    "        continue\n",
    "    print (number)\n",
    "else:\n",
    "        print ('No longer less than 5')"
   ]
  },
  {
   "cell_type": "code",
   "execution_count": null,
   "id": "dc6d4ce4-57f4-4ab4-a259-179b03e21a1c",
   "metadata": {},
   "outputs": [],
   "source": []
  }
 ],
 "metadata": {
  "kernelspec": {
   "display_name": "Python 3 (ipykernel)",
   "language": "python",
   "name": "python3"
  },
  "language_info": {
   "codemirror_mode": {
    "name": "ipython",
    "version": 3
   },
   "file_extension": ".py",
   "mimetype": "text/x-python",
   "name": "python",
   "nbconvert_exporter": "python",
   "pygments_lexer": "ipython3",
   "version": "3.12.7"
  }
 },
 "nbformat": 4,
 "nbformat_minor": 5
}
