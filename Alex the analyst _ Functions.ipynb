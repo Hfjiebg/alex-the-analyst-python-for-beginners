{
 "cells": [
  {
   "cell_type": "markdown",
   "id": "d8b782a2-43b3-4088-a317-ebacb0cd3a76",
   "metadata": {},
   "source": [
    "URL : https://youtu.be/zvzjaqMBEso?si=_ns8tFZOa8EWs3rs"
   ]
  },
  {
   "cell_type": "markdown",
   "id": "c6ad5469-8348-4fdf-a423-795900963434",
   "metadata": {},
   "source": [
    "## Syntax of functions"
   ]
  },
  {
   "cell_type": "code",
   "execution_count": 93,
   "id": "c2308f06-3f95-47dc-8f17-9dc567a14cdf",
   "metadata": {},
   "outputs": [],
   "source": [
    "def first_func():\n",
    "    print ('We did it!')"
   ]
  },
  {
   "cell_type": "code",
   "execution_count": 94,
   "id": "46bb6ec0-064b-4059-bfd6-13fc128f4f3d",
   "metadata": {},
   "outputs": [
    {
     "name": "stdout",
     "output_type": "stream",
     "text": [
      "We did it!\n"
     ]
    }
   ],
   "source": [
    "first_func()"
   ]
  },
  {
   "cell_type": "markdown",
   "id": "a07bfa40-4b40-4794-9cf3-06557ec47254",
   "metadata": {},
   "source": [
    "## Arguments in functions"
   ]
  },
  {
   "cell_type": "code",
   "execution_count": 96,
   "id": "0e8252c5-277b-48a8-8eed-20d6415c3c53",
   "metadata": {},
   "outputs": [],
   "source": [
    "def number_squared(number):\n",
    "    print (number**2)"
   ]
  },
  {
   "cell_type": "code",
   "execution_count": 97,
   "id": "9ac8bd6f-7598-4c70-a84b-1254c523cb52",
   "metadata": {},
   "outputs": [
    {
     "name": "stdout",
     "output_type": "stream",
     "text": [
      "25\n"
     ]
    }
   ],
   "source": [
    "number_squared(5)"
   ]
  },
  {
   "cell_type": "markdown",
   "id": "ae048935-f514-4685-abfb-d21195842ffb",
   "metadata": {},
   "source": [
    "## Multiple arguments in fuctions"
   ]
  },
  {
   "cell_type": "code",
   "execution_count": 99,
   "id": "9cd2e7fe-fe0a-4d20-937b-d29308fc28ed",
   "metadata": {},
   "outputs": [],
   "source": [
    "def number_squared_custm(number,power):\n",
    "    print (number**power)"
   ]
  },
  {
   "cell_type": "code",
   "execution_count": 100,
   "id": "49653286-1a21-4f40-ac0a-cd24c8bcd38b",
   "metadata": {},
   "outputs": [
    {
     "name": "stdout",
     "output_type": "stream",
     "text": [
      "125\n"
     ]
    }
   ],
   "source": [
    "number_squared_custm(5,3)"
   ]
  },
  {
   "cell_type": "markdown",
   "id": "5078bb37-544c-44b1-bdc5-266a1571acdf",
   "metadata": {},
   "source": [
    "## Arbitrary arguments in functions"
   ]
  },
  {
   "cell_type": "code",
   "execution_count": 102,
   "id": "75fe885f-b503-4c95-bd41-71192a3b606a",
   "metadata": {},
   "outputs": [],
   "source": [
    "def number_args(*number):\n",
    "    print (number [0] * number [1])"
   ]
  },
  {
   "cell_type": "code",
   "execution_count": 103,
   "id": "7d39228e-41f9-4aa1-bb67-3231d8fc6bc3",
   "metadata": {},
   "outputs": [
    {
     "name": "stdout",
     "output_type": "stream",
     "text": [
      "30\n"
     ]
    }
   ],
   "source": [
    "number_args(5,6,1,2,8)"
   ]
  },
  {
   "cell_type": "code",
   "execution_count": 104,
   "id": "1e8e1dec-d920-4970-9a15-a21b63b488ea",
   "metadata": {},
   "outputs": [
    {
     "name": "stdout",
     "output_type": "stream",
     "text": [
      "30\n"
     ]
    }
   ],
   "source": [
    "args_tuple = (5,6,1,2,8)\n",
    "\n",
    "def number_args(*number):\n",
    "    print (number [0] * number [1])\n",
    "\n",
    "number_args(*args_tuple)"
   ]
  },
  {
   "cell_type": "markdown",
   "id": "f0931d68-8cfa-4f81-aefb-027194159afd",
   "metadata": {},
   "source": [
    "## Keyword arguments in functions"
   ]
  },
  {
   "cell_type": "code",
   "execution_count": 106,
   "id": "fd40a6ca-2a60-4eb0-adce-ab2a0ee5f37f",
   "metadata": {},
   "outputs": [],
   "source": [
    "#reusing the example from \"Multiple arguments in functions\":\n",
    "\n",
    "def number_squared_custm(number,power):\n",
    "    print (number**power)"
   ]
  },
  {
   "cell_type": "code",
   "execution_count": 107,
   "id": "7491d45f-e9b1-4bae-9d5f-3ad9eed18429",
   "metadata": {},
   "outputs": [
    {
     "name": "stdout",
     "output_type": "stream",
     "text": [
      "243\n"
     ]
    }
   ],
   "source": [
    "number_squared_custm(power= 5,number= 3)  # 3^5 (we use it to have more control with the positions of the args)"
   ]
  },
  {
   "cell_type": "markdown",
   "id": "824d87df-3ac1-4725-93e8-ef101edf4aed",
   "metadata": {},
   "source": [
    "## Arbitrary keyword arguments in functions"
   ]
  },
  {
   "cell_type": "code",
   "execution_count": 109,
   "id": "bc4fdd18-5a11-4c68-b680-5a7af73b18b8",
   "metadata": {},
   "outputs": [],
   "source": [
    "def number_kwarg(**number):\n",
    "    print ('My number is: ' + number ['integer'])"
   ]
  },
  {
   "cell_type": "code",
   "execution_count": 110,
   "id": "c85c4eb6-759f-4592-8c8e-5abd82737d64",
   "metadata": {},
   "outputs": [
    {
     "name": "stdout",
     "output_type": "stream",
     "text": [
      "My number is: 2309\n"
     ]
    }
   ],
   "source": [
    "number_kwarg(integer = '2309')"
   ]
  },
  {
   "cell_type": "code",
   "execution_count": 111,
   "id": "93806fcb-e5e8-45b4-931c-90617685b92a",
   "metadata": {},
   "outputs": [],
   "source": [
    "# with 2 args\n",
    "\n",
    "def number_kwarg_2(**number):\n",
    "    print ('My number is: ' + number ['integer'] + ' and my other number is: ' + number ['integer2'])"
   ]
  },
  {
   "cell_type": "code",
   "execution_count": 112,
   "id": "9fd0d380-b34f-460f-a42e-314d9e713944",
   "metadata": {},
   "outputs": [
    {
     "name": "stdout",
     "output_type": "stream",
     "text": [
      "My number is: 2309 and my other number is: 349\n"
     ]
    }
   ],
   "source": [
    "number_kwarg_2(integer = '2309', integer2 = '349')"
   ]
  },
  {
   "cell_type": "code",
   "execution_count": null,
   "id": "8f57dab9-b9db-4840-b2be-6e5318f2eea7",
   "metadata": {},
   "outputs": [],
   "source": []
  }
 ],
 "metadata": {
  "kernelspec": {
   "display_name": "Python 3 (ipykernel)",
   "language": "python",
   "name": "python3"
  },
  "language_info": {
   "codemirror_mode": {
    "name": "ipython",
    "version": 3
   },
   "file_extension": ".py",
   "mimetype": "text/x-python",
   "name": "python",
   "nbconvert_exporter": "python",
   "pygments_lexer": "ipython3",
   "version": "3.12.7"
  }
 },
 "nbformat": 4,
 "nbformat_minor": 5
}
