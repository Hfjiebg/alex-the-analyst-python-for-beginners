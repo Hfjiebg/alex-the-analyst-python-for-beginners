{
 "cells": [
  {
   "cell_type": "markdown",
   "id": "056905f4-c314-46e9-81d3-d2ca0057f47a",
   "metadata": {},
   "source": [
    "## If else statement"
   ]
  },
  {
   "cell_type": "markdown",
   "id": "32b1e427-ac15-439a-bee0-dc3bcbb084a5",
   "metadata": {},
   "source": [
    "URL : https://youtu.be/-BOBedcjySI?si=sfC8kyJEFtCe2EWO"
   ]
  },
  {
   "cell_type": "code",
   "execution_count": 53,
   "id": "01ee62be-8e1d-41b8-90ac-3f15c53a63fe",
   "metadata": {},
   "outputs": [
    {
     "name": "stdout",
     "output_type": "stream",
     "text": [
      "It worked!\n"
     ]
    }
   ],
   "source": [
    "if 25 > 10:\n",
    "    print ('It worked!')"
   ]
  },
  {
   "cell_type": "code",
   "execution_count": 54,
   "id": "397042a3-4d73-4368-b5b7-6f1f8f396644",
   "metadata": {},
   "outputs": [
    {
     "name": "stdout",
     "output_type": "stream",
     "text": [
      "It didn't work...\n"
     ]
    }
   ],
   "source": [
    "if 25 < 10:\n",
    "    print ('It worked!')\n",
    "else:\n",
    "    print (\"It didn't work...\")"
   ]
  },
  {
   "cell_type": "code",
   "execution_count": 55,
   "id": "8153b2ad-22c9-4486-8eb6-817a17959122",
   "metadata": {},
   "outputs": [
    {
     "name": "stdout",
     "output_type": "stream",
     "text": [
      "It worked!\n"
     ]
    }
   ],
   "source": [
    "if 25 > 10:\n",
    "    print ('It worked!')\n",
    "else:\n",
    "    print (\"It didn't work...\")"
   ]
  },
  {
   "cell_type": "markdown",
   "id": "67e75817-98e6-4343-8339-7411a68c9fcd",
   "metadata": {},
   "source": [
    "## If elif else statement"
   ]
  },
  {
   "cell_type": "code",
   "execution_count": 57,
   "id": "c01dcd71-3d08-4020-9631-f5b1c0f5792f",
   "metadata": {},
   "outputs": [
    {
     "name": "stdout",
     "output_type": "stream",
     "text": [
      "elif worked!\n"
     ]
    }
   ],
   "source": [
    "if 25 < 10:\n",
    "    print ('It worked!')\n",
    "elif 25 < 30:\n",
    "    print ('elif worked!')\n",
    "else:\n",
    "    print (\"It didn't work...\")"
   ]
  },
  {
   "cell_type": "code",
   "execution_count": 58,
   "id": "9d76a649-c685-435d-8afd-aa209de6f513",
   "metadata": {},
   "outputs": [
    {
     "name": "stdout",
     "output_type": "stream",
     "text": [
      "elif 3 worked!\n"
     ]
    }
   ],
   "source": [
    "if 25 < 10:\n",
    "    print ('It worked!')\n",
    "elif 25 < 20:\n",
    "    print ('elif 1 worked!')\n",
    "elif 25 < 21:\n",
    "    print ('elif 2 worked!')\n",
    "elif 25 < 40:\n",
    "    print ('elif 3 worked!')\n",
    "elif 25 < 50:\n",
    "    print ('elif 4 worked!')\n",
    "else:\n",
    "    print (\"It didn't work...\")"
   ]
  },
  {
   "cell_type": "code",
   "execution_count": 59,
   "id": "7d9d19be-3c06-4b1b-b6fd-373cfba1bec7",
   "metadata": {},
   "outputs": [
    {
     "name": "stdout",
     "output_type": "stream",
     "text": [
      "It worked!\n"
     ]
    }
   ],
   "source": [
    "if (25 < 10) or (1 < 3):\n",
    "    print ('It worked!')\n",
    "elif 25 < 20:\n",
    "    print ('elif 1 worked!')\n",
    "elif 25 < 21:\n",
    "    print ('elif 2 worked!')\n",
    "elif 25 < 40:\n",
    "    print ('elif 3 worked!')\n",
    "elif 25 < 50:\n",
    "    print ('elif 4 worked!')\n",
    "else:\n",
    "    print (\"It didn't work...\")"
   ]
  },
  {
   "cell_type": "markdown",
   "id": "0cf7cc8f-fc09-47a9-9231-119ac8e7202c",
   "metadata": {},
   "source": [
    "## If else statement on one line"
   ]
  },
  {
   "cell_type": "code",
   "execution_count": 61,
   "id": "9b63c175-73aa-4b87-98aa-5aa1c44fbbbf",
   "metadata": {},
   "outputs": [
    {
     "name": "stdout",
     "output_type": "stream",
     "text": [
      "It did not work...\n"
     ]
    }
   ],
   "source": [
    "print ('It worked!') if 10>30 else print ('It did not work...')"
   ]
  },
  {
   "cell_type": "markdown",
   "id": "95b20c03-93ca-4328-b6e7-e2ef97a279ea",
   "metadata": {},
   "source": [
    "## Nested If else statement"
   ]
  },
  {
   "cell_type": "code",
   "execution_count": 63,
   "id": "23677258-2c35-449d-ade0-ab739958a833",
   "metadata": {},
   "outputs": [
    {
     "name": "stdout",
     "output_type": "stream",
     "text": [
      "It worked!\n"
     ]
    }
   ],
   "source": [
    "# we saw previously:\n",
    "if (25 < 10) or (1 < 3):\n",
    "    print ('It worked!')\n",
    "elif 25 < 20:\n",
    "    print ('elif 1 worked!')\n",
    "elif 25 < 21:\n",
    "    print ('elif 2 worked!')\n",
    "elif 25 < 40:\n",
    "    print ('elif 3 worked!')\n",
    "elif 25 < 50:\n",
    "    print ('elif 4 worked!')\n",
    "else:\n",
    "    print (\"It didn't work...\")"
   ]
  },
  {
   "cell_type": "code",
   "execution_count": 64,
   "id": "a3c3a0d2-a47b-4594-99d3-484fc7659930",
   "metadata": {},
   "outputs": [
    {
     "name": "stdout",
     "output_type": "stream",
     "text": [
      "It worked!\n",
      "This neste if statement worked!\n"
     ]
    }
   ],
   "source": [
    "#nested if statement (multiple if statements)\n",
    "if (25 < 10) or (1 < 3):\n",
    "    print ('It worked!')\n",
    "    if 10 > 5:\n",
    "        print ('This neste if statement worked!')\n",
    "elif 25 < 20:\n",
    "    print ('elif 1 worked!')\n",
    "elif 25 < 21:\n",
    "    print ('elif 2 worked!')\n",
    "elif 25 < 40:\n",
    "    print ('elif 3 worked!')\n",
    "elif 25 < 50:\n",
    "    print ('elif 4 worked!')\n",
    "else:\n",
    "    print (\"It didn't work...\")"
   ]
  },
  {
   "cell_type": "code",
   "execution_count": null,
   "id": "40a0a38e-00d2-4e07-8bc5-041b133d9b64",
   "metadata": {},
   "outputs": [],
   "source": []
  }
 ],
 "metadata": {
  "kernelspec": {
   "display_name": "Python 3 (ipykernel)",
   "language": "python",
   "name": "python3"
  },
  "language_info": {
   "codemirror_mode": {
    "name": "ipython",
    "version": 3
   },
   "file_extension": ".py",
   "mimetype": "text/x-python",
   "name": "python",
   "nbconvert_exporter": "python",
   "pygments_lexer": "ipython3",
   "version": "3.12.7"
  }
 },
 "nbformat": 4,
 "nbformat_minor": 5
}
