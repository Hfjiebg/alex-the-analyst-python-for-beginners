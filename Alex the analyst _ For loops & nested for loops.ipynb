{
 "cells": [
  {
   "cell_type": "markdown",
   "id": "14f4400f-072d-4b64-a50b-6a4040a3d6e7",
   "metadata": {},
   "source": [
    "URL : https://youtu.be/zmIdC0_0BgY?si=7hxn4KpEEDMkEyIT"
   ]
  },
  {
   "cell_type": "markdown",
   "id": "bef66402-acdf-41a1-8a4b-a0d9c7438efa",
   "metadata": {},
   "source": [
    "## Syntax of for loop"
   ]
  },
  {
   "cell_type": "code",
   "execution_count": 4,
   "id": "5c0d3142-d1dd-48be-90db-5ad648f3b6db",
   "metadata": {},
   "outputs": [],
   "source": [
    "integers = [1,2,3,4,5]"
   ]
  },
  {
   "cell_type": "code",
   "execution_count": 6,
   "id": "9f2c40ca-de8e-4d90-95a7-935ac228a7a1",
   "metadata": {},
   "outputs": [
    {
     "name": "stdout",
     "output_type": "stream",
     "text": [
      "1\n",
      "2\n",
      "3\n",
      "4\n",
      "5\n"
     ]
    }
   ],
   "source": [
    "for number in integers:\n",
    "    print (number)"
   ]
  },
  {
   "cell_type": "code",
   "execution_count": 8,
   "id": "16518b12-e248-4cd3-99df-722d78b84d5f",
   "metadata": {},
   "outputs": [
    {
     "name": "stdout",
     "output_type": "stream",
     "text": [
      "1\n",
      "2\n",
      "3\n",
      "4\n",
      "5\n"
     ]
    }
   ],
   "source": [
    "# we can name it however we want:\n",
    "for i in integers:\n",
    "    print (i)"
   ]
  },
  {
   "cell_type": "code",
   "execution_count": 10,
   "id": "45b4fc3d-9468-43c5-a447-97804e752cc9",
   "metadata": {},
   "outputs": [
    {
     "name": "stdout",
     "output_type": "stream",
     "text": [
      "yep!\n",
      "yep!\n",
      "yep!\n",
      "yep!\n",
      "yep!\n"
     ]
    }
   ],
   "source": [
    "for i in integers:\n",
    "    print ('yep!')"
   ]
  },
  {
   "cell_type": "code",
   "execution_count": 12,
   "id": "fbdd52eb-1e9b-44e3-80c0-75430325906b",
   "metadata": {},
   "outputs": [
    {
     "name": "stdout",
     "output_type": "stream",
     "text": [
      "2\n",
      "4\n",
      "6\n",
      "8\n",
      "10\n"
     ]
    }
   ],
   "source": [
    "for jelly in integers:\n",
    "    print (jelly + jelly)  # 1+1, 2+2, 3+3, 4+4, 5+5"
   ]
  },
  {
   "cell_type": "markdown",
   "id": "7b523c1f-14e2-44fd-afa4-0c086a7b06ba",
   "metadata": {},
   "source": [
    "## Looping through a dictionary"
   ]
  },
  {
   "cell_type": "code",
   "execution_count": 15,
   "id": "8680a284-9d1d-4ddb-b573-7877b2bdbe33",
   "metadata": {},
   "outputs": [],
   "source": [
    "ice_cream_dict = {'name': 'Alex Freberg', 'weekly intake': 5, 'favorite ice creams': ['MCC','Chocolate']}"
   ]
  },
  {
   "cell_type": "code",
   "execution_count": 17,
   "id": "602fcc35-d9fd-4581-924d-2e3e41b567fe",
   "metadata": {},
   "outputs": [
    {
     "name": "stdout",
     "output_type": "stream",
     "text": [
      "Alex Freberg\n",
      "5\n",
      "['MCC', 'Chocolate']\n"
     ]
    }
   ],
   "source": [
    "for cream in ice_cream_dict.values():\n",
    "    print (cream)"
   ]
  },
  {
   "cell_type": "code",
   "execution_count": 19,
   "id": "043e133c-b4a7-4208-8c7b-e986e6c9b4a7",
   "metadata": {},
   "outputs": [
    {
     "name": "stdout",
     "output_type": "stream",
     "text": [
      "Alex Freberg\n",
      "5\n",
      "['MCC', 'Chocolate']\n"
     ]
    }
   ],
   "source": [
    "#we can name it however we want\n",
    "\n",
    "for i in ice_cream_dict.values():\n",
    "    print (i)"
   ]
  },
  {
   "cell_type": "code",
   "execution_count": 25,
   "id": "9ec2519c-ccec-4a4d-bdfe-934bbd10678a",
   "metadata": {},
   "outputs": [
    {
     "name": "stdout",
     "output_type": "stream",
     "text": [
      "name  ->  Alex Freberg\n",
      "weekly intake  ->  5\n",
      "favorite ice creams  ->  ['MCC', 'Chocolate']\n"
     ]
    }
   ],
   "source": [
    "for key, value in ice_cream_dict.items():\n",
    "    print (key,' -> ',value)"
   ]
  },
  {
   "cell_type": "markdown",
   "id": "43e15712-6ecd-4a77-bbeb-1d331835cff8",
   "metadata": {},
   "source": [
    "## Nested for loops"
   ]
  },
  {
   "cell_type": "code",
   "execution_count": 46,
   "id": "29ed5ccb-8e03-4d90-88ce-5b5e03d021fb",
   "metadata": {},
   "outputs": [],
   "source": [
    "flavors = ['Vanilla','Chocolate','Cookie dough']\n",
    "toppings = ['Hot fudge','Oreos','Marshmallows']"
   ]
  },
  {
   "cell_type": "code",
   "execution_count": 48,
   "id": "74a9e935-916f-493e-831a-384fb82190ce",
   "metadata": {},
   "outputs": [
    {
     "name": "stdout",
     "output_type": "stream",
     "text": [
      "Vanilla tooped with Hot fudge\n",
      "Vanilla tooped with Oreos\n",
      "Vanilla tooped with Marshmallows\n",
      "Chocolate tooped with Hot fudge\n",
      "Chocolate tooped with Oreos\n",
      "Chocolate tooped with Marshmallows\n",
      "Cookie dough tooped with Hot fudge\n",
      "Cookie dough tooped with Oreos\n",
      "Cookie dough tooped with Marshmallows\n"
     ]
    }
   ],
   "source": [
    "for one in flavors:\n",
    "    for two in toppings:\n",
    "        print (one, 'tooped with', two)"
   ]
  },
  {
   "cell_type": "code",
   "execution_count": 53,
   "id": "3148257d-fa9e-4473-bebc-5912e96405ab",
   "metadata": {},
   "outputs": [
    {
     "name": "stdout",
     "output_type": "stream",
     "text": [
      "Vanilla tooped with Hot fudge\n",
      "Vanilla tooped with Oreos\n",
      "Vanilla tooped with Marshmallows\n",
      "Chocolate tooped with Hot fudge\n",
      "Chocolate tooped with Oreos\n",
      "Chocolate tooped with Marshmallows\n",
      "Cookie dough tooped with Hot fudge\n",
      "Cookie dough tooped with Oreos\n",
      "Cookie dough tooped with Marshmallows\n"
     ]
    }
   ],
   "source": [
    "for i in flavors:\n",
    "    for j in toppings:\n",
    "        print (i, 'tooped with', j)"
   ]
  },
  {
   "cell_type": "code",
   "execution_count": null,
   "id": "ae873e69-c7f9-4314-a720-ee0f379a11e9",
   "metadata": {},
   "outputs": [],
   "source": []
  }
 ],
 "metadata": {
  "kernelspec": {
   "display_name": "Python 3 (ipykernel)",
   "language": "python",
   "name": "python3"
  },
  "language_info": {
   "codemirror_mode": {
    "name": "ipython",
    "version": 3
   },
   "file_extension": ".py",
   "mimetype": "text/x-python",
   "name": "python",
   "nbconvert_exporter": "python",
   "pygments_lexer": "ipython3",
   "version": "3.12.7"
  }
 },
 "nbformat": 4,
 "nbformat_minor": 5
}
