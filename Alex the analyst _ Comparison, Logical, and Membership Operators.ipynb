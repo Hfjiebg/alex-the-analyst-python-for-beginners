{
 "cells": [
  {
   "cell_type": "markdown",
   "id": "5712cc05-d7fb-4014-971d-4104c421d248",
   "metadata": {},
   "source": [
    "## Comparison operators:"
   ]
  },
  {
   "cell_type": "markdown",
   "id": "943e23df-2c5d-4b30-a224-46fc4b63ea3a",
   "metadata": {},
   "source": [
    "URL : https://youtu.be/lPVke-p4S7s?si=FHthBhtk5FCRYdUn"
   ]
  },
  {
   "cell_type": "code",
   "execution_count": 4,
   "id": "dd26246b-ca69-4668-afc7-7cb370fec88a",
   "metadata": {},
   "outputs": [
    {
     "data": {
      "text/plain": [
       "True"
      ]
     },
     "execution_count": 4,
     "metadata": {},
     "output_type": "execute_result"
    }
   ],
   "source": [
    "10 == 10"
   ]
  },
  {
   "cell_type": "code",
   "execution_count": 6,
   "id": "86070eb4-5f21-4fd1-9ada-1966bf3db854",
   "metadata": {},
   "outputs": [
    {
     "data": {
      "text/plain": [
       "False"
      ]
     },
     "execution_count": 6,
     "metadata": {},
     "output_type": "execute_result"
    }
   ],
   "source": [
    "10 == 50"
   ]
  },
  {
   "cell_type": "code",
   "execution_count": 8,
   "id": "dabf6175-842c-4138-bdf1-b7fe33d597ef",
   "metadata": {},
   "outputs": [
    {
     "data": {
      "text/plain": [
       "True"
      ]
     },
     "execution_count": 8,
     "metadata": {},
     "output_type": "execute_result"
    }
   ],
   "source": [
    "10 != 50"
   ]
  },
  {
   "cell_type": "code",
   "execution_count": 10,
   "id": "94a1e39b-f1c0-40c5-96a6-15cb6455952d",
   "metadata": {},
   "outputs": [
    {
     "data": {
      "text/plain": [
       "False"
      ]
     },
     "execution_count": 10,
     "metadata": {},
     "output_type": "execute_result"
    }
   ],
   "source": [
    "'Vanilla' == 'Chocolate'"
   ]
  },
  {
   "cell_type": "code",
   "execution_count": 12,
   "id": "f96dec2f-c2a2-49c9-872b-fa9cc5698b42",
   "metadata": {},
   "outputs": [
    {
     "data": {
      "text/plain": [
       "True"
      ]
     },
     "execution_count": 12,
     "metadata": {},
     "output_type": "execute_result"
    }
   ],
   "source": [
    "'Vanilla' == 'Vanilla'"
   ]
  },
  {
   "cell_type": "code",
   "execution_count": 14,
   "id": "ceca3d33-cd91-48e7-87bd-cc0d88cb6bc9",
   "metadata": {},
   "outputs": [
    {
     "data": {
      "text/plain": [
       "False"
      ]
     },
     "execution_count": 14,
     "metadata": {},
     "output_type": "execute_result"
    }
   ],
   "source": [
    "x = 'Vanilla'\n",
    "y = 'Chocolate'\n",
    "\n",
    "x ==y"
   ]
  },
  {
   "cell_type": "code",
   "execution_count": 16,
   "id": "77d8f231-d882-46e8-b882-41d2954149ff",
   "metadata": {},
   "outputs": [
    {
     "data": {
      "text/plain": [
       "True"
      ]
     },
     "execution_count": 16,
     "metadata": {},
     "output_type": "execute_result"
    }
   ],
   "source": [
    "x = 'Vanilla'\n",
    "y = 'Chocolate'\n",
    "\n",
    "x !=y"
   ]
  },
  {
   "cell_type": "code",
   "execution_count": 18,
   "id": "33a58239-a970-4d39-a1f6-ae8dc5ce4f57",
   "metadata": {},
   "outputs": [
    {
     "data": {
      "text/plain": [
       "True"
      ]
     },
     "execution_count": 18,
     "metadata": {},
     "output_type": "execute_result"
    }
   ],
   "source": [
    "10 < 50"
   ]
  },
  {
   "cell_type": "code",
   "execution_count": 20,
   "id": "68dc7517-5b7a-4a4c-9e1a-ab328423bb46",
   "metadata": {},
   "outputs": [
    {
     "data": {
      "text/plain": [
       "False"
      ]
     },
     "execution_count": 20,
     "metadata": {},
     "output_type": "execute_result"
    }
   ],
   "source": [
    "10 < 10"
   ]
  },
  {
   "cell_type": "code",
   "execution_count": 22,
   "id": "04f843f9-d668-4a59-a338-97f1dc9b5162",
   "metadata": {},
   "outputs": [
    {
     "data": {
      "text/plain": [
       "True"
      ]
     },
     "execution_count": 22,
     "metadata": {},
     "output_type": "execute_result"
    }
   ],
   "source": [
    "10 <= 10"
   ]
  },
  {
   "cell_type": "code",
   "execution_count": 24,
   "id": "9c01b73f-a434-4e1a-afe1-35d4d1cf8d58",
   "metadata": {},
   "outputs": [
    {
     "data": {
      "text/plain": [
       "True"
      ]
     },
     "execution_count": 24,
     "metadata": {},
     "output_type": "execute_result"
    }
   ],
   "source": [
    "10 >= 10"
   ]
  },
  {
   "cell_type": "code",
   "execution_count": 26,
   "id": "2cef2ecc-190d-4269-ac88-2e83a5254cc8",
   "metadata": {},
   "outputs": [
    {
     "data": {
      "text/plain": [
       "True"
      ]
     },
     "execution_count": 26,
     "metadata": {},
     "output_type": "execute_result"
    }
   ],
   "source": [
    "50 >= 10"
   ]
  },
  {
   "cell_type": "markdown",
   "id": "18c13f99-b791-4f68-8156-a27e8474e8bf",
   "metadata": {},
   "source": [
    "## Logical operators:"
   ]
  },
  {
   "cell_type": "code",
   "execution_count": 32,
   "id": "0871cc0d-cde5-4505-be0a-05764ec6767a",
   "metadata": {},
   "outputs": [
    {
     "data": {
      "text/plain": [
       "False"
      ]
     },
     "execution_count": 32,
     "metadata": {},
     "output_type": "execute_result"
    }
   ],
   "source": [
    "10 > 50"
   ]
  },
  {
   "cell_type": "code",
   "execution_count": 34,
   "id": "f5c9ca96-d90b-44d3-bed1-543039a28170",
   "metadata": {},
   "outputs": [
    {
     "data": {
      "text/plain": [
       "False"
      ]
     },
     "execution_count": 34,
     "metadata": {},
     "output_type": "execute_result"
    }
   ],
   "source": [
    "(10 > 50) and (50 > 10)"
   ]
  },
  {
   "cell_type": "code",
   "execution_count": 36,
   "id": "54afd5a4-4578-48ef-a277-05e9a94d4bee",
   "metadata": {},
   "outputs": [
    {
     "data": {
      "text/plain": [
       "True"
      ]
     },
     "execution_count": 36,
     "metadata": {},
     "output_type": "execute_result"
    }
   ],
   "source": [
    "(70 > 50) and (50 > 10)"
   ]
  },
  {
   "cell_type": "code",
   "execution_count": 38,
   "id": "908510c6-d632-41a8-a2f0-e3b76acf8f98",
   "metadata": {},
   "outputs": [
    {
     "data": {
      "text/plain": [
       "True"
      ]
     },
     "execution_count": 38,
     "metadata": {},
     "output_type": "execute_result"
    }
   ],
   "source": [
    "(10 > 50) or (50 > 10)"
   ]
  },
  {
   "cell_type": "code",
   "execution_count": 40,
   "id": "668eb74c-8019-4f40-8134-f8ce29f1f66f",
   "metadata": {},
   "outputs": [
    {
     "data": {
      "text/plain": [
       "True"
      ]
     },
     "execution_count": 40,
     "metadata": {},
     "output_type": "execute_result"
    }
   ],
   "source": [
    "('Vanilla' > 'Chocolate') or (50 > 10)"
   ]
  },
  {
   "cell_type": "code",
   "execution_count": 42,
   "id": "df8b1762-3864-42f3-8882-212368713efd",
   "metadata": {},
   "outputs": [
    {
     "data": {
      "text/plain": [
       "True"
      ]
     },
     "execution_count": 42,
     "metadata": {},
     "output_type": "execute_result"
    }
   ],
   "source": [
    "('Vanilla' > 'Chocolate') and (50 > 10)"
   ]
  },
  {
   "cell_type": "code",
   "execution_count": 44,
   "id": "18b978c4-837c-4ac6-9cbb-c86fb16ae6f6",
   "metadata": {},
   "outputs": [
    {
     "data": {
      "text/plain": [
       "False"
      ]
     },
     "execution_count": 44,
     "metadata": {},
     "output_type": "execute_result"
    }
   ],
   "source": [
    "not (50 > 10)"
   ]
  },
  {
   "cell_type": "markdown",
   "id": "e6e76568-090a-4a13-87fc-0bc6be5879d1",
   "metadata": {},
   "source": [
    "## Membership operators:"
   ]
  },
  {
   "cell_type": "code",
   "execution_count": 47,
   "id": "537dd06f-9300-41b4-85bd-a53353b706f6",
   "metadata": {},
   "outputs": [
    {
     "data": {
      "text/plain": [
       "True"
      ]
     },
     "execution_count": 47,
     "metadata": {},
     "output_type": "execute_result"
    }
   ],
   "source": [
    "ice_cream = 'I love chocolate ice cream'\n",
    "\n",
    "'love' in ice_cream"
   ]
  },
  {
   "cell_type": "code",
   "execution_count": 49,
   "id": "27c40f00-0f2e-4e95-92df-032e59ca9e0f",
   "metadata": {},
   "outputs": [
    {
     "data": {
      "text/plain": [
       "True"
      ]
     },
     "execution_count": 49,
     "metadata": {},
     "output_type": "execute_result"
    }
   ],
   "source": [
    "'love' in 'I love chocolate ice cream'"
   ]
  },
  {
   "cell_type": "code",
   "execution_count": 51,
   "id": "259a97a5-b130-41c4-8920-2c30d666851f",
   "metadata": {},
   "outputs": [
    {
     "data": {
      "text/plain": [
       "True"
      ]
     },
     "execution_count": 51,
     "metadata": {},
     "output_type": "execute_result"
    }
   ],
   "source": [
    "scoops = [1,2,3,4,5]\n",
    "\n",
    "2 in scoops"
   ]
  },
  {
   "cell_type": "code",
   "execution_count": 53,
   "id": "8318e863-3a98-47f9-a585-fe4f6a1720a7",
   "metadata": {},
   "outputs": [
    {
     "data": {
      "text/plain": [
       "True"
      ]
     },
     "execution_count": 53,
     "metadata": {},
     "output_type": "execute_result"
    }
   ],
   "source": [
    "6 not in scoops"
   ]
  },
  {
   "cell_type": "code",
   "execution_count": 55,
   "id": "7e3ad8bb-b6ef-4926-a3da-5cefeb724a61",
   "metadata": {},
   "outputs": [
    {
     "data": {
      "text/plain": [
       "True"
      ]
     },
     "execution_count": 55,
     "metadata": {},
     "output_type": "execute_result"
    }
   ],
   "source": [
    "wanted_scoops = 8\n",
    "\n",
    "wanted_scoops not in scoops"
   ]
  },
  {
   "cell_type": "code",
   "execution_count": 57,
   "id": "ae00f6d3-2c6a-4f86-8a2e-0a186012215d",
   "metadata": {},
   "outputs": [
    {
     "data": {
      "text/plain": [
       "False"
      ]
     },
     "execution_count": 57,
     "metadata": {},
     "output_type": "execute_result"
    }
   ],
   "source": [
    "wanted_scoops in scoops"
   ]
  },
  {
   "cell_type": "code",
   "execution_count": null,
   "id": "fc237dcc-8088-48cd-a998-8bbfaadedf0e",
   "metadata": {},
   "outputs": [],
   "source": []
  }
 ],
 "metadata": {
  "kernelspec": {
   "display_name": "Python 3 (ipykernel)",
   "language": "python",
   "name": "python3"
  },
  "language_info": {
   "codemirror_mode": {
    "name": "ipython",
    "version": 3
   },
   "file_extension": ".py",
   "mimetype": "text/x-python",
   "name": "python",
   "nbconvert_exporter": "python",
   "pygments_lexer": "ipython3",
   "version": "3.12.7"
  }
 },
 "nbformat": 4,
 "nbformat_minor": 5
}
