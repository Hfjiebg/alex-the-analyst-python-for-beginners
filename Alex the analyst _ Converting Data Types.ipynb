{
 "cells": [
  {
   "cell_type": "markdown",
   "id": "936af683-8c6c-47af-bedf-0ae4c98e1857",
   "metadata": {},
   "source": [
    "URL : https://youtu.be/B63bN2cLVLM?si=cQnF-BGkyBBFfhhT"
   ]
  },
  {
   "cell_type": "markdown",
   "id": "0b89ab64-82f9-4d06-84c3-0b43352162df",
   "metadata": {},
   "source": [
    "## Introduction"
   ]
  },
  {
   "cell_type": "code",
   "execution_count": 75,
   "id": "6d1cf512-8d47-43e4-a56e-f3e84fe838b1",
   "metadata": {},
   "outputs": [],
   "source": [
    "num_int = 7"
   ]
  },
  {
   "cell_type": "code",
   "execution_count": 76,
   "id": "77a6f54f-ba19-4598-bea2-ef42709e38cf",
   "metadata": {},
   "outputs": [
    {
     "data": {
      "text/plain": [
       "int"
      ]
     },
     "execution_count": 76,
     "metadata": {},
     "output_type": "execute_result"
    }
   ],
   "source": [
    "type (num_int)"
   ]
  },
  {
   "cell_type": "code",
   "execution_count": 77,
   "id": "07f3c23b-3119-4943-b801-abd07dbf45f8",
   "metadata": {},
   "outputs": [],
   "source": [
    "num_str = '7'"
   ]
  },
  {
   "cell_type": "code",
   "execution_count": 78,
   "id": "99e3d287-da13-42ba-9566-b16031dbfcc3",
   "metadata": {},
   "outputs": [
    {
     "data": {
      "text/plain": [
       "str"
      ]
     },
     "execution_count": 78,
     "metadata": {},
     "output_type": "execute_result"
    }
   ],
   "source": [
    "type (num_str)"
   ]
  },
  {
   "cell_type": "markdown",
   "id": "d7a614ed-c309-4a44-883e-bd1c814f0a12",
   "metadata": {},
   "source": [
    "## Converting a string to an integer"
   ]
  },
  {
   "cell_type": "code",
   "execution_count": 80,
   "id": "4245a52f-ea86-4395-84ff-6e4c1712eedc",
   "metadata": {},
   "outputs": [],
   "source": [
    "num_string_conv = int(num_str)"
   ]
  },
  {
   "cell_type": "code",
   "execution_count": 81,
   "id": "37fc9d73-b7fd-4d37-a6c9-31a765babee4",
   "metadata": {},
   "outputs": [
    {
     "data": {
      "text/plain": [
       "int"
      ]
     },
     "execution_count": 81,
     "metadata": {},
     "output_type": "execute_result"
    }
   ],
   "source": [
    "type(num_string_conv)"
   ]
  },
  {
   "cell_type": "code",
   "execution_count": 82,
   "id": "b4d55059-b6cc-499d-8718-b88efa0c8f89",
   "metadata": {},
   "outputs": [],
   "source": [
    "num_sum = num_int + num_string_conv"
   ]
  },
  {
   "cell_type": "code",
   "execution_count": 83,
   "id": "cd303101-b6fa-4278-9f0a-db9954d6535f",
   "metadata": {},
   "outputs": [
    {
     "data": {
      "text/plain": [
       "int"
      ]
     },
     "execution_count": 83,
     "metadata": {},
     "output_type": "execute_result"
    }
   ],
   "source": [
    "type (num_sum)"
   ]
  },
  {
   "cell_type": "code",
   "execution_count": 84,
   "id": "3c191cbb-6b97-4236-865e-a7f4203b6670",
   "metadata": {},
   "outputs": [
    {
     "name": "stdout",
     "output_type": "stream",
     "text": [
      "14\n"
     ]
    }
   ],
   "source": [
    "print (num_sum)"
   ]
  },
  {
   "cell_type": "markdown",
   "id": "9136db55-abd4-4857-b997-4138842b9dce",
   "metadata": {},
   "source": [
    "## Converting lists, sets & tuples"
   ]
  },
  {
   "cell_type": "code",
   "execution_count": 86,
   "id": "bd1aad7e-a8d2-4dc9-8ca3-3cdaf8f0c29e",
   "metadata": {},
   "outputs": [],
   "source": [
    "list_type = [1,2,3]"
   ]
  },
  {
   "cell_type": "code",
   "execution_count": 87,
   "id": "364e497a-da37-4c7d-89ec-01cdf5540e3b",
   "metadata": {},
   "outputs": [
    {
     "data": {
      "text/plain": [
       "list"
      ]
     },
     "execution_count": 87,
     "metadata": {},
     "output_type": "execute_result"
    }
   ],
   "source": [
    "type(list_type)"
   ]
  },
  {
   "cell_type": "code",
   "execution_count": 88,
   "id": "769c34b3-1ad0-4290-820c-e681a34e780f",
   "metadata": {},
   "outputs": [
    {
     "data": {
      "text/plain": [
       "(1, 2, 3)"
      ]
     },
     "execution_count": 88,
     "metadata": {},
     "output_type": "execute_result"
    }
   ],
   "source": [
    "tuple (list_type)"
   ]
  },
  {
   "cell_type": "code",
   "execution_count": 89,
   "id": "7207b6a7-7268-4900-abf8-dc6589ee5446",
   "metadata": {},
   "outputs": [
    {
     "data": {
      "text/plain": [
       "tuple"
      ]
     },
     "execution_count": 89,
     "metadata": {},
     "output_type": "execute_result"
    }
   ],
   "source": [
    "type (tuple (list_type))"
   ]
  },
  {
   "cell_type": "code",
   "execution_count": 90,
   "id": "706208ff-503c-486f-a013-2850e51b3f35",
   "metadata": {},
   "outputs": [],
   "source": [
    "list2 = [1,2,3,2,1,2,3,1,2,3,1]"
   ]
  },
  {
   "cell_type": "code",
   "execution_count": 91,
   "id": "0643f723-df51-44aa-bd16-3dedc39c37b7",
   "metadata": {},
   "outputs": [
    {
     "data": {
      "text/plain": [
       "{1, 2, 3}"
      ]
     },
     "execution_count": 91,
     "metadata": {},
     "output_type": "execute_result"
    }
   ],
   "source": [
    "set(list2)  # a set has unique values "
   ]
  },
  {
   "cell_type": "code",
   "execution_count": 92,
   "id": "f346b982-db57-4c70-90c3-45c14c9d497a",
   "metadata": {},
   "outputs": [
    {
     "data": {
      "text/plain": [
       "set"
      ]
     },
     "execution_count": 92,
     "metadata": {},
     "output_type": "execute_result"
    }
   ],
   "source": [
    "type (set(list2))"
   ]
  },
  {
   "cell_type": "code",
   "execution_count": 93,
   "id": "c34ac1d5-de26-46c6-9793-a75342e46a3e",
   "metadata": {},
   "outputs": [],
   "source": [
    "dict_type = {'name': 'Alex', 'age': 28, 'hair': 'N|A'}"
   ]
  },
  {
   "cell_type": "code",
   "execution_count": 94,
   "id": "464b8ecd-5a2c-4d22-92b2-94f33c7264ce",
   "metadata": {},
   "outputs": [
    {
     "data": {
      "text/plain": [
       "dict"
      ]
     },
     "execution_count": 94,
     "metadata": {},
     "output_type": "execute_result"
    }
   ],
   "source": [
    "type (dict_type)"
   ]
  },
  {
   "cell_type": "code",
   "execution_count": 95,
   "id": "5947691a-4113-4c17-87e0-d7d22794378b",
   "metadata": {},
   "outputs": [
    {
     "data": {
      "text/plain": [
       "dict_items([('name', 'Alex'), ('age', 28), ('hair', 'N|A')])"
      ]
     },
     "execution_count": 95,
     "metadata": {},
     "output_type": "execute_result"
    }
   ],
   "source": [
    "dict_type.items()"
   ]
  },
  {
   "cell_type": "code",
   "execution_count": 96,
   "id": "6c2fcbaf-f8ad-4ce8-b2de-ad49085289bf",
   "metadata": {},
   "outputs": [
    {
     "data": {
      "text/plain": [
       "dict_values(['Alex', 28, 'N|A'])"
      ]
     },
     "execution_count": 96,
     "metadata": {},
     "output_type": "execute_result"
    }
   ],
   "source": [
    "dict_type.values()"
   ]
  },
  {
   "cell_type": "code",
   "execution_count": 97,
   "id": "28313e81-4b5c-4537-9793-3a18434f42d8",
   "metadata": {},
   "outputs": [
    {
     "data": {
      "text/plain": [
       "dict_keys(['name', 'age', 'hair'])"
      ]
     },
     "execution_count": 97,
     "metadata": {},
     "output_type": "execute_result"
    }
   ],
   "source": [
    "dict_type.keys()"
   ]
  },
  {
   "cell_type": "code",
   "execution_count": 98,
   "id": "1facf06a-b182-4cbf-8522-ce161009b390",
   "metadata": {},
   "outputs": [
    {
     "data": {
      "text/plain": [
       "['name', 'age', 'hair']"
      ]
     },
     "execution_count": 98,
     "metadata": {},
     "output_type": "execute_result"
    }
   ],
   "source": [
    "list (dict_type.keys())"
   ]
  },
  {
   "cell_type": "code",
   "execution_count": 99,
   "id": "e3c20374-b4b0-4281-92d4-0c2e39e081a5",
   "metadata": {},
   "outputs": [
    {
     "data": {
      "text/plain": [
       "list"
      ]
     },
     "execution_count": 99,
     "metadata": {},
     "output_type": "execute_result"
    }
   ],
   "source": [
    "type (list (dict_type.keys()))"
   ]
  },
  {
   "cell_type": "code",
   "execution_count": 100,
   "id": "f26d2207-5f40-4ba5-86d3-3e3858302e61",
   "metadata": {},
   "outputs": [
    {
     "data": {
      "text/plain": [
       "['Alex', 28, 'N|A']"
      ]
     },
     "execution_count": 100,
     "metadata": {},
     "output_type": "execute_result"
    }
   ],
   "source": [
    "# another example using the values\n",
    "list (dict_type.values())"
   ]
  },
  {
   "cell_type": "code",
   "execution_count": 101,
   "id": "7b8168f1-6455-4b21-b5aa-1da3d5ef4e44",
   "metadata": {},
   "outputs": [
    {
     "data": {
      "text/plain": [
       "list"
      ]
     },
     "execution_count": 101,
     "metadata": {},
     "output_type": "execute_result"
    }
   ],
   "source": [
    "type (list (dict_type.values()))"
   ]
  },
  {
   "cell_type": "markdown",
   "id": "bcd39a50-ae99-4c2e-9f79-c733178fb81a",
   "metadata": {},
   "source": [
    "## Converting a string to a list or a set"
   ]
  },
  {
   "cell_type": "code",
   "execution_count": 103,
   "id": "ef2a8beb-6cb2-4847-a332-7f8a4fe04a59",
   "metadata": {},
   "outputs": [],
   "source": [
    "long_str = 'I like to party'"
   ]
  },
  {
   "cell_type": "code",
   "execution_count": 104,
   "id": "3d17effe-0303-4802-910a-1d619438c7af",
   "metadata": {},
   "outputs": [
    {
     "data": {
      "text/plain": [
       "['I', ' ', 'l', 'i', 'k', 'e', ' ', 't', 'o', ' ', 'p', 'a', 'r', 't', 'y']"
      ]
     },
     "execution_count": 104,
     "metadata": {},
     "output_type": "execute_result"
    }
   ],
   "source": [
    "list(long_str)"
   ]
  },
  {
   "cell_type": "code",
   "execution_count": 105,
   "id": "c8a2695b-1d82-49c3-91d8-20a38dbc23ef",
   "metadata": {},
   "outputs": [
    {
     "data": {
      "text/plain": [
       "{' ', 'I', 'a', 'e', 'i', 'k', 'l', 'o', 'p', 'r', 't', 'y'}"
      ]
     },
     "execution_count": 105,
     "metadata": {},
     "output_type": "execute_result"
    }
   ],
   "source": [
    "set(long_str)"
   ]
  },
  {
   "cell_type": "code",
   "execution_count": null,
   "id": "34997695-4d9a-4903-bddd-0ebaa9a75cd7",
   "metadata": {},
   "outputs": [],
   "source": []
  }
 ],
 "metadata": {
  "kernelspec": {
   "display_name": "Python 3 (ipykernel)",
   "language": "python",
   "name": "python3"
  },
  "language_info": {
   "codemirror_mode": {
    "name": "ipython",
    "version": 3
   },
   "file_extension": ".py",
   "mimetype": "text/x-python",
   "name": "python",
   "nbconvert_exporter": "python",
   "pygments_lexer": "ipython3",
   "version": "3.12.7"
  }
 },
 "nbformat": 4,
 "nbformat_minor": 5
}
