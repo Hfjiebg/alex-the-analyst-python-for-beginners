{
 "cells": [
  {
   "cell_type": "markdown",
   "id": "74047f85-b206-4828-bcff-d093c3c6b114",
   "metadata": {},
   "source": [
    "# DATA TYPES"
   ]
  },
  {
   "cell_type": "markdown",
   "id": "b48b6f09-d58d-4a3f-a43a-2512682dfc35",
   "metadata": {},
   "source": [
    "URL : https://youtu.be/ppsCxnNm-JI?si=sVFqOzwR4yIAWKNb"
   ]
  },
  {
   "cell_type": "markdown",
   "id": "6ee3546d-dc74-4dc1-88d4-34a55a1b3d61",
   "metadata": {},
   "source": [
    "## 1. NUMERIC"
   ]
  },
  {
   "cell_type": "code",
   "execution_count": 540,
   "id": "0635c9e5-3f05-45d4-9569-c40fc8641b9a",
   "metadata": {},
   "outputs": [
    {
     "data": {
      "text/plain": [
       "int"
      ]
     },
     "execution_count": 540,
     "metadata": {},
     "output_type": "execute_result"
    }
   ],
   "source": [
    "type(12)"
   ]
  },
  {
   "cell_type": "code",
   "execution_count": 542,
   "id": "5cd364de-3cbb-464b-94c9-4bb59b7ff62a",
   "metadata": {},
   "outputs": [
    {
     "data": {
      "text/plain": [
       "int"
      ]
     },
     "execution_count": 542,
     "metadata": {},
     "output_type": "execute_result"
    }
   ],
   "source": [
    "type(-12)"
   ]
  },
  {
   "cell_type": "code",
   "execution_count": 544,
   "id": "a2c87714-5855-4c2e-a800-e4fde15b875b",
   "metadata": {},
   "outputs": [
    {
     "data": {
      "text/plain": [
       "int"
      ]
     },
     "execution_count": 544,
     "metadata": {},
     "output_type": "execute_result"
    }
   ],
   "source": [
    "type(-12+100)"
   ]
  },
  {
   "cell_type": "code",
   "execution_count": 546,
   "id": "4f294031-2499-4b9d-8f0c-4dd9e470454d",
   "metadata": {},
   "outputs": [
    {
     "data": {
      "text/plain": [
       "float"
      ]
     },
     "execution_count": 546,
     "metadata": {},
     "output_type": "execute_result"
    }
   ],
   "source": [
    "type(12+10.25)"
   ]
  },
  {
   "cell_type": "code",
   "execution_count": 548,
   "id": "9193cf84-5a53-47e8-8dbb-16e479f1fb35",
   "metadata": {},
   "outputs": [
    {
     "data": {
      "text/plain": [
       "complex"
      ]
     },
     "execution_count": 548,
     "metadata": {},
     "output_type": "execute_result"
    }
   ],
   "source": [
    "type(12+3j)"
   ]
  },
  {
   "cell_type": "code",
   "execution_count": 550,
   "id": "37be6ae8-8332-45e2-9d13-1e3d3c1a68cb",
   "metadata": {},
   "outputs": [
    {
     "ename": "SyntaxError",
     "evalue": "invalid decimal literal (3689592405.py, line 1)",
     "output_type": "error",
     "traceback": [
      "\u001b[1;36m  Cell \u001b[1;32mIn[550], line 1\u001b[1;36m\u001b[0m\n\u001b[1;33m    type(12+3c) #nope!\u001b[0m\n\u001b[1;37m            ^\u001b[0m\n\u001b[1;31mSyntaxError\u001b[0m\u001b[1;31m:\u001b[0m invalid decimal literal\n"
     ]
    }
   ],
   "source": [
    "type(12+3c) #nope!"
   ]
  },
  {
   "cell_type": "markdown",
   "id": "b9438151-7478-46e2-a9da-c074e470187d",
   "metadata": {},
   "source": [
    "## 2. BOOLEAN"
   ]
  },
  {
   "cell_type": "code",
   "execution_count": 553,
   "id": "5cc1d279-b838-490d-bbc3-b3631c39ae41",
   "metadata": {},
   "outputs": [
    {
     "data": {
      "text/plain": [
       "bool"
      ]
     },
     "execution_count": 553,
     "metadata": {},
     "output_type": "execute_result"
    }
   ],
   "source": [
    "type(True)"
   ]
  },
  {
   "cell_type": "code",
   "execution_count": 555,
   "id": "7d651dad-d3c8-4b44-8abb-626f0df27fdb",
   "metadata": {},
   "outputs": [
    {
     "ename": "NameError",
     "evalue": "name 'true' is not defined",
     "output_type": "error",
     "traceback": [
      "\u001b[1;31m---------------------------------------------------------------------------\u001b[0m",
      "\u001b[1;31mNameError\u001b[0m                                 Traceback (most recent call last)",
      "Cell \u001b[1;32mIn[555], line 1\u001b[0m\n\u001b[1;32m----> 1\u001b[0m \u001b[38;5;28mtype\u001b[39m(true)\n",
      "\u001b[1;31mNameError\u001b[0m: name 'true' is not defined"
     ]
    }
   ],
   "source": [
    "type(true) #know the difference!"
   ]
  },
  {
   "cell_type": "code",
   "execution_count": 557,
   "id": "dccd2384-6daf-449f-84b3-5891bd035fd4",
   "metadata": {},
   "outputs": [
    {
     "data": {
      "text/plain": [
       "bool"
      ]
     },
     "execution_count": 557,
     "metadata": {},
     "output_type": "execute_result"
    }
   ],
   "source": [
    "type(False)"
   ]
  },
  {
   "cell_type": "code",
   "execution_count": 559,
   "id": "2d971329-d5a3-4cc1-a8f1-222caee3eb38",
   "metadata": {},
   "outputs": [
    {
     "data": {
      "text/plain": [
       "bool"
      ]
     },
     "execution_count": 559,
     "metadata": {},
     "output_type": "execute_result"
    }
   ],
   "source": [
    "type(1>5)"
   ]
  },
  {
   "cell_type": "code",
   "execution_count": 561,
   "id": "985a1d3e-dfa0-4f58-97c0-d2096257377e",
   "metadata": {},
   "outputs": [
    {
     "data": {
      "text/plain": [
       "False"
      ]
     },
     "execution_count": 561,
     "metadata": {},
     "output_type": "execute_result"
    }
   ],
   "source": [
    "1>5"
   ]
  },
  {
   "cell_type": "code",
   "execution_count": 563,
   "id": "7f8f3586-a4b9-4e2a-aa45-e71f0209ee18",
   "metadata": {},
   "outputs": [
    {
     "data": {
      "text/plain": [
       "True"
      ]
     },
     "execution_count": 563,
     "metadata": {},
     "output_type": "execute_result"
    }
   ],
   "source": [
    "1==1"
   ]
  },
  {
   "cell_type": "markdown",
   "id": "998c1f83-19a4-4cf4-910b-459530fc2fb8",
   "metadata": {},
   "source": [
    "## 3. STRINGS"
   ]
  },
  {
   "cell_type": "code",
   "execution_count": 566,
   "id": "0f150ef2-58ca-4340-b9b2-73766eb4920e",
   "metadata": {},
   "outputs": [
    {
     "data": {
      "text/plain": [
       "'Single Quote'"
      ]
     },
     "execution_count": 566,
     "metadata": {},
     "output_type": "execute_result"
    }
   ],
   "source": [
    "'Single Quote'"
   ]
  },
  {
   "cell_type": "code",
   "execution_count": 568,
   "id": "8e6a3b06-8359-4a9a-8026-2686946f5722",
   "metadata": {},
   "outputs": [
    {
     "data": {
      "text/plain": [
       "'Double Quote'"
      ]
     },
     "execution_count": 568,
     "metadata": {},
     "output_type": "execute_result"
    }
   ],
   "source": [
    "\"Double Quote\""
   ]
  },
  {
   "cell_type": "code",
   "execution_count": 570,
   "id": "c42f3184-be26-438b-b126-eee86abcf78b",
   "metadata": {},
   "outputs": [],
   "source": [
    "multiline = '''\n",
    "The ice cream vanquished\n",
    "my longing for sweets,\n",
    "upon this diet I look away,\n",
    "it no longer exists on this day.\n",
    "'''"
   ]
  },
  {
   "cell_type": "code",
   "execution_count": 572,
   "id": "349caec6-8bd3-49f5-89b0-34b84b96406e",
   "metadata": {},
   "outputs": [
    {
     "name": "stdout",
     "output_type": "stream",
     "text": [
      "\n",
      "The ice cream vanquished\n",
      "my longing for sweets,\n",
      "upon this diet I look away,\n",
      "it no longer exists on this day.\n",
      "\n"
     ]
    }
   ],
   "source": [
    "print (multiline)"
   ]
  },
  {
   "cell_type": "code",
   "execution_count": 574,
   "id": "857ff961-1ee9-4601-b1ad-0fe679b109f9",
   "metadata": {},
   "outputs": [
    {
     "ename": "SyntaxError",
     "evalue": "unterminated string literal (detected at line 1) (327660341.py, line 1)",
     "output_type": "error",
     "traceback": [
      "\u001b[1;36m  Cell \u001b[1;32mIn[574], line 1\u001b[1;36m\u001b[0m\n\u001b[1;33m    'I've always wanted to eat a gallon of ice cream.'\u001b[0m\n\u001b[1;37m                                                     ^\u001b[0m\n\u001b[1;31mSyntaxError\u001b[0m\u001b[1;31m:\u001b[0m unterminated string literal (detected at line 1)\n"
     ]
    }
   ],
   "source": [
    "'I've always wanted to eat a gallon of ice cream.'"
   ]
  },
  {
   "cell_type": "code",
   "execution_count": 576,
   "id": "f2ff1108-0a1b-4f88-9669-2d74996e42b8",
   "metadata": {},
   "outputs": [
    {
     "data": {
      "text/plain": [
       "\"I've always wanted to eat a gallon of ice cream.\""
      ]
     },
     "execution_count": 576,
     "metadata": {},
     "output_type": "execute_result"
    }
   ],
   "source": [
    "\"I've always wanted to eat a gallon of ice cream.\""
   ]
  },
  {
   "cell_type": "code",
   "execution_count": 578,
   "id": "4f7b982d-2020-4c57-8e5e-bfa9beb47385",
   "metadata": {},
   "outputs": [
    {
     "ename": "SyntaxError",
     "evalue": "unterminated string literal (detected at line 1) (1310214190.py, line 1)",
     "output_type": "error",
     "traceback": [
      "\u001b[1;36m  Cell \u001b[1;32mIn[578], line 1\u001b[1;36m\u001b[0m\n\u001b[1;33m    \"I've always wanted to eat a gallon of \"ice cream.\"\u001b[0m\n\u001b[1;37m                                                      ^\u001b[0m\n\u001b[1;31mSyntaxError\u001b[0m\u001b[1;31m:\u001b[0m unterminated string literal (detected at line 1)\n"
     ]
    }
   ],
   "source": [
    "\"I've always wanted to eat a gallon of \"ice cream.\""
   ]
  },
  {
   "cell_type": "code",
   "execution_count": 580,
   "id": "751acb29-2a2a-4478-b780-2633c843b7b9",
   "metadata": {},
   "outputs": [
    {
     "data": {
      "text/plain": [
       "'I\\'ve always wanted to eat a gallon of \"ice cream\".'"
      ]
     },
     "execution_count": 580,
     "metadata": {},
     "output_type": "execute_result"
    }
   ],
   "source": [
    "'''I've always wanted to eat a gallon of \"ice cream\".'''"
   ]
  },
  {
   "cell_type": "code",
   "execution_count": 582,
   "id": "1985d930-3583-4196-bdd3-7846677b1a2f",
   "metadata": {},
   "outputs": [
    {
     "name": "stdout",
     "output_type": "stream",
     "text": [
      "I've always wanted to eat a gallon of \"ice cream\".\n"
     ]
    }
   ],
   "source": [
    "print('''I've always wanted to eat a gallon of \"ice cream\".''')"
   ]
  },
  {
   "cell_type": "code",
   "execution_count": 584,
   "id": "9f86969b-98b1-4474-92ab-b40ec9323cf1",
   "metadata": {},
   "outputs": [
    {
     "data": {
      "text/plain": [
       "str"
      ]
     },
     "execution_count": 584,
     "metadata": {},
     "output_type": "execute_result"
    }
   ],
   "source": [
    "type (multiline)"
   ]
  },
  {
   "cell_type": "code",
   "execution_count": 586,
   "id": "46a20824-117d-4c3d-ba69-8332d5e60d4d",
   "metadata": {},
   "outputs": [],
   "source": [
    "a = 'Hello world!'"
   ]
  },
  {
   "cell_type": "code",
   "execution_count": 588,
   "id": "4ecdf304-43cd-4e52-85aa-336659ee7193",
   "metadata": {},
   "outputs": [
    {
     "name": "stdout",
     "output_type": "stream",
     "text": [
      "Hello\n"
     ]
    }
   ],
   "source": [
    "print (a[:5])"
   ]
  },
  {
   "cell_type": "code",
   "execution_count": 590,
   "id": "67c330f9-3602-4ff8-a3a3-bc1312c9b41b",
   "metadata": {},
   "outputs": [
    {
     "name": "stdout",
     "output_type": "stream",
     "text": [
      " \n"
     ]
    }
   ],
   "source": [
    "print (a[5])"
   ]
  },
  {
   "cell_type": "code",
   "execution_count": 592,
   "id": "5fdb7c5b-7d9f-4877-a963-d2da178be7ed",
   "metadata": {},
   "outputs": [
    {
     "name": "stdout",
     "output_type": "stream",
     "text": [
      "w\n"
     ]
    }
   ],
   "source": [
    "print (a[6])"
   ]
  },
  {
   "cell_type": "code",
   "execution_count": 594,
   "id": "ae4db93e-5ee7-459f-ac22-40024cd24122",
   "metadata": {},
   "outputs": [
    {
     "data": {
      "text/plain": [
       "'w'"
      ]
     },
     "execution_count": 594,
     "metadata": {},
     "output_type": "execute_result"
    }
   ],
   "source": [
    "a[6]"
   ]
  },
  {
   "cell_type": "code",
   "execution_count": 596,
   "id": "b918cb6e-fbc9-44b4-9ea2-976c218f338f",
   "metadata": {},
   "outputs": [
    {
     "name": "stdout",
     "output_type": "stream",
     "text": [
      "l\n"
     ]
    }
   ],
   "source": [
    "print (a[-3])"
   ]
  },
  {
   "cell_type": "code",
   "execution_count": 598,
   "id": "2e48e13f-85b9-497e-91d6-87e0d9492cae",
   "metadata": {},
   "outputs": [
    {
     "name": "stdout",
     "output_type": "stream",
     "text": [
      "llo\n"
     ]
    }
   ],
   "source": [
    "print (a[2:5])"
   ]
  },
  {
   "cell_type": "code",
   "execution_count": 600,
   "id": "c81c45d5-9a4d-41a9-9074-3380b1559122",
   "metadata": {},
   "outputs": [
    {
     "data": {
      "text/plain": [
       "'Hello world!Hello world!Hello world!'"
      ]
     },
     "execution_count": 600,
     "metadata": {},
     "output_type": "execute_result"
    }
   ],
   "source": [
    "a*3"
   ]
  },
  {
   "cell_type": "code",
   "execution_count": 602,
   "id": "417711d7-7755-4f8d-bb6c-bd2d6c31f28b",
   "metadata": {},
   "outputs": [
    {
     "name": "stdout",
     "output_type": "stream",
     "text": [
      "Hello world!Hello world!Hello world!\n"
     ]
    }
   ],
   "source": [
    "print (a*3)"
   ]
  },
  {
   "cell_type": "code",
   "execution_count": 604,
   "id": "fffcb9d8-ee1c-4227-a2ba-eb8448bf6f7b",
   "metadata": {},
   "outputs": [
    {
     "data": {
      "text/plain": [
       "'Hello world!Hello world!'"
      ]
     },
     "execution_count": 604,
     "metadata": {},
     "output_type": "execute_result"
    }
   ],
   "source": [
    "a + a"
   ]
  },
  {
   "cell_type": "markdown",
   "id": "9bccd123-c113-44db-a9a2-e7bb40f3c7b6",
   "metadata": {},
   "source": [
    "## 4. LISTS"
   ]
  },
  {
   "cell_type": "code",
   "execution_count": 607,
   "id": "e2ff18cb-b2d3-4b6f-accb-4a7357fa0986",
   "metadata": {},
   "outputs": [
    {
     "data": {
      "text/plain": [
       "[1, 2, 3]"
      ]
     },
     "execution_count": 607,
     "metadata": {},
     "output_type": "execute_result"
    }
   ],
   "source": [
    "[1,2,3]"
   ]
  },
  {
   "cell_type": "code",
   "execution_count": 609,
   "id": "8dbc68dc-c237-4c05-bed7-03175bf60c7d",
   "metadata": {},
   "outputs": [
    {
     "data": {
      "text/plain": [
       "['Cookie dough', 'Strawberry', 'Chocolate']"
      ]
     },
     "execution_count": 609,
     "metadata": {},
     "output_type": "execute_result"
    }
   ],
   "source": [
    "['Cookie dough','Strawberry','Chocolate']"
   ]
  },
  {
   "cell_type": "code",
   "execution_count": 611,
   "id": "73862300-bd71-4fc2-bfeb-39c10d662514",
   "metadata": {},
   "outputs": [
    {
     "data": {
      "text/plain": [
       "['Vanilla', 3, ['Scoops', 'Spoon'], True]"
      ]
     },
     "execution_count": 611,
     "metadata": {},
     "output_type": "execute_result"
    }
   ],
   "source": [
    "['Vanilla',3,['Scoops', 'Spoon'], True]"
   ]
  },
  {
   "cell_type": "code",
   "execution_count": 613,
   "id": "24280b56-ec90-42c6-8d4a-5a3ff9ae6122",
   "metadata": {},
   "outputs": [
    {
     "data": {
      "text/plain": [
       "['Cookie dough', 'Strawberry', 'Chocolate', 'Salted caramel']"
      ]
     },
     "execution_count": 613,
     "metadata": {},
     "output_type": "execute_result"
    }
   ],
   "source": [
    "ice_cream = ['Cookie dough','Strawberry','Chocolate']\n",
    "\n",
    "# adding 'Salted caramel' to the list\n",
    "ice_cream.append('Salted caramel')\n",
    "\n",
    "#show the (updated) variable ice_cream\n",
    "ice_cream"
   ]
  },
  {
   "cell_type": "code",
   "execution_count": 615,
   "id": "88bd3514-2fa2-4569-838b-12afb347171f",
   "metadata": {},
   "outputs": [
    {
     "data": {
      "text/plain": [
       "['Cookie dough', 'Strawberry', 'Chocolate', 'Salted caramel']"
      ]
     },
     "execution_count": 615,
     "metadata": {},
     "output_type": "execute_result"
    }
   ],
   "source": [
    "ice_cream"
   ]
  },
  {
   "cell_type": "code",
   "execution_count": 617,
   "id": "d2c24982-ab5a-4f0c-a0e8-539760e5a217",
   "metadata": {},
   "outputs": [
    {
     "data": {
      "text/plain": [
       "['Butter pecan', 'Strawberry', 'Chocolate', 'Salted caramel']"
      ]
     },
     "execution_count": 617,
     "metadata": {},
     "output_type": "execute_result"
    }
   ],
   "source": [
    "#changing the 1st element of the list\n",
    "ice_cream[0] = 'Butter pecan'\n",
    "\n",
    "#show the (updated) variable ice_cream\n",
    "ice_cream"
   ]
  },
  {
   "cell_type": "code",
   "execution_count": 619,
   "id": "f456e036-5492-4b5c-a5d0-80158fe9b195",
   "metadata": {},
   "outputs": [],
   "source": [
    "nest_list = ['Vanilla',3,['Scoops', 'Spoon'], True]"
   ]
  },
  {
   "cell_type": "code",
   "execution_count": 621,
   "id": "e5e07c00-ce5a-4b2d-8c8d-9ba1a4082ccc",
   "metadata": {},
   "outputs": [
    {
     "data": {
      "text/plain": [
       "'Vanilla'"
      ]
     },
     "execution_count": 621,
     "metadata": {},
     "output_type": "execute_result"
    }
   ],
   "source": [
    "nest_list[0]"
   ]
  },
  {
   "cell_type": "code",
   "execution_count": 623,
   "id": "eea27309-db60-430f-86d2-501ef2dfec47",
   "metadata": {},
   "outputs": [
    {
     "data": {
      "text/plain": [
       "['Scoops', 'Spoon']"
      ]
     },
     "execution_count": 623,
     "metadata": {},
     "output_type": "execute_result"
    }
   ],
   "source": [
    "nest_list[2]"
   ]
  },
  {
   "cell_type": "code",
   "execution_count": 625,
   "id": "5478a2f3-cce0-4088-b699-a7ba9508c5fa",
   "metadata": {},
   "outputs": [
    {
     "data": {
      "text/plain": [
       "'Scoops'"
      ]
     },
     "execution_count": 625,
     "metadata": {},
     "output_type": "execute_result"
    }
   ],
   "source": [
    "nest_list[2][0]"
   ]
  },
  {
   "cell_type": "code",
   "execution_count": 627,
   "id": "9a0ee5b8-0512-4a16-bdb5-84a95f46f2e9",
   "metadata": {},
   "outputs": [
    {
     "data": {
      "text/plain": [
       "'Spoon'"
      ]
     },
     "execution_count": 627,
     "metadata": {},
     "output_type": "execute_result"
    }
   ],
   "source": [
    "nest_list[2][1]"
   ]
  },
  {
   "cell_type": "markdown",
   "id": "a24f9d24-eb33-47e0-af04-ae5725ed75f5",
   "metadata": {},
   "source": [
    "## 5. TUPLES"
   ]
  },
  {
   "cell_type": "code",
   "execution_count": 630,
   "id": "e0f07d53-a181-458f-865e-e93a3e03b28f",
   "metadata": {},
   "outputs": [],
   "source": [
    "tuple_scoops = (1,2,3,2,1)"
   ]
  },
  {
   "cell_type": "code",
   "execution_count": 632,
   "id": "d606d04f-0d42-43e0-86b5-a334248b0e42",
   "metadata": {},
   "outputs": [
    {
     "data": {
      "text/plain": [
       "tuple"
      ]
     },
     "execution_count": 632,
     "metadata": {},
     "output_type": "execute_result"
    }
   ],
   "source": [
    "type(tuple_scoops)"
   ]
  },
  {
   "cell_type": "code",
   "execution_count": 634,
   "id": "01b91780-1316-4fde-b5e3-d6ef6d115454",
   "metadata": {},
   "outputs": [
    {
     "data": {
      "text/plain": [
       "1"
      ]
     },
     "execution_count": 634,
     "metadata": {},
     "output_type": "execute_result"
    }
   ],
   "source": [
    "tuple_scoops[0]"
   ]
  },
  {
   "cell_type": "code",
   "execution_count": 636,
   "id": "dd7f5dae-7f93-4eff-8cf8-797aa331a81e",
   "metadata": {},
   "outputs": [
    {
     "ename": "AttributeError",
     "evalue": "'tuple' object has no attribute 'append'",
     "output_type": "error",
     "traceback": [
      "\u001b[1;31m---------------------------------------------------------------------------\u001b[0m",
      "\u001b[1;31mAttributeError\u001b[0m                            Traceback (most recent call last)",
      "Cell \u001b[1;32mIn[636], line 1\u001b[0m\n\u001b[1;32m----> 1\u001b[0m tuple_scoops\u001b[38;5;241m.\u001b[39mappend(\u001b[38;5;241m3\u001b[39m)\n",
      "\u001b[1;31mAttributeError\u001b[0m: 'tuple' object has no attribute 'append'"
     ]
    }
   ],
   "source": [
    "tuple_scoops.append(3) #tuples are untouchable"
   ]
  },
  {
   "cell_type": "markdown",
   "id": "4d3bedce-11ea-45d0-8c0c-6cca0f52871c",
   "metadata": {},
   "source": [
    "## 6. SETS"
   ]
  },
  {
   "cell_type": "code",
   "execution_count": 639,
   "id": "b9e5a002-4813-47e7-bdb8-e1b4d1267018",
   "metadata": {},
   "outputs": [],
   "source": [
    "daily_pints = {1,2,3}"
   ]
  },
  {
   "cell_type": "code",
   "execution_count": 641,
   "id": "cccd4d41-d3c6-4bee-871f-3c873f418bfa",
   "metadata": {},
   "outputs": [
    {
     "data": {
      "text/plain": [
       "set"
      ]
     },
     "execution_count": 641,
     "metadata": {},
     "output_type": "execute_result"
    }
   ],
   "source": [
    "type (daily_pints)"
   ]
  },
  {
   "cell_type": "code",
   "execution_count": 643,
   "id": "b7482635-3542-4259-90ce-c1a18157273e",
   "metadata": {},
   "outputs": [
    {
     "name": "stdout",
     "output_type": "stream",
     "text": [
      "{1, 2, 3}\n"
     ]
    }
   ],
   "source": [
    "print (daily_pints)"
   ]
  },
  {
   "cell_type": "code",
   "execution_count": 645,
   "id": "814b4b89-2283-4138-840b-2d5f7327a411",
   "metadata": {},
   "outputs": [
    {
     "data": {
      "text/plain": [
       "{1, 2, 3}"
      ]
     },
     "execution_count": 645,
     "metadata": {},
     "output_type": "execute_result"
    }
   ],
   "source": [
    "daily_pints"
   ]
  },
  {
   "cell_type": "code",
   "execution_count": 647,
   "id": "0cc43a7c-98a3-4490-a26e-2d990eaf975b",
   "metadata": {},
   "outputs": [
    {
     "name": "stdout",
     "output_type": "stream",
     "text": [
      "{0, 1, 2, 3, 6, 7, 8, 9, 45}\n"
     ]
    }
   ],
   "source": [
    "daily_pints_log = {1,2,3,45,6,6,7,8,9,9,0}\n",
    "\n",
    "print (daily_pints_log) #it shows only the unique values within that set (in an asc order): a set doesn't have dupplicate elements"
   ]
  },
  {
   "cell_type": "code",
   "execution_count": 649,
   "id": "27ce484a-f253-4c94-90c2-7ab130b3caf6",
   "metadata": {},
   "outputs": [
    {
     "name": "stdout",
     "output_type": "stream",
     "text": [
      "{0, 65, 2, 67, 3, 4, 5, 6, 7, 8, 9}\n"
     ]
    }
   ],
   "source": [
    "wifes_daily_pints_log = {2,3,4,5,67,65,4,6,7,8,9,0,0}\n",
    "\n",
    "print (wifes_daily_pints_log)"
   ]
  },
  {
   "cell_type": "code",
   "execution_count": 651,
   "id": "5cf6fcdd-9c09-43b1-b55e-71b8bb813b5f",
   "metadata": {},
   "outputs": [
    {
     "name": "stdout",
     "output_type": "stream",
     "text": [
      "{0, 1, 2, 3, 65, 67, 6, 7, 8, 9, 4, 5, 45}\n"
     ]
    }
   ],
   "source": [
    "print(daily_pints_log | wifes_daily_pints_log)"
   ]
  },
  {
   "cell_type": "code",
   "execution_count": 653,
   "id": "27902ccc-3763-40ee-8e35-967f134f30f3",
   "metadata": {},
   "outputs": [
    {
     "name": "stdout",
     "output_type": "stream",
     "text": [
      "{0, 65, 2, 67, 3, 4, 5, 6, 7, 8, 9, 1, 45}\n"
     ]
    }
   ],
   "source": [
    "print(wifes_daily_pints_log | daily_pints_log) "
   ]
  },
  {
   "cell_type": "code",
   "execution_count": 655,
   "id": "76eb1b4b-87b8-4095-b8a8-11c2b2f3d6a6",
   "metadata": {},
   "outputs": [
    {
     "name": "stdout",
     "output_type": "stream",
     "text": [
      "{0, 2, 3, 6, 7, 8, 9}\n"
     ]
    }
   ],
   "source": [
    "print(daily_pints_log & wifes_daily_pints_log) #shared elements between the 2 sets (what matches)"
   ]
  },
  {
   "cell_type": "code",
   "execution_count": 657,
   "id": "9fcd5ca3-9980-4542-af1c-38b8e3530668",
   "metadata": {},
   "outputs": [
    {
     "name": "stdout",
     "output_type": "stream",
     "text": [
      "{0, 2, 3, 6, 7, 8, 9}\n"
     ]
    }
   ],
   "source": [
    "print(wifes_daily_pints_log & daily_pints_log) "
   ]
  },
  {
   "cell_type": "code",
   "execution_count": 659,
   "id": "62ec0c32-fe90-4297-afb5-9dd296a5eac8",
   "metadata": {},
   "outputs": [
    {
     "name": "stdout",
     "output_type": "stream",
     "text": [
      "{1, 45}\n"
     ]
    }
   ],
   "source": [
    "print(daily_pints_log - wifes_daily_pints_log) #what doesn't match"
   ]
  },
  {
   "cell_type": "code",
   "execution_count": 661,
   "id": "52fd52ce-1f58-4626-ac09-e257eabdd9ca",
   "metadata": {},
   "outputs": [
    {
     "name": "stdout",
     "output_type": "stream",
     "text": [
      "{65, 67, 4, 5}\n"
     ]
    }
   ],
   "source": [
    "print(wifes_daily_pints_log - daily_pints_log) "
   ]
  },
  {
   "cell_type": "code",
   "execution_count": 663,
   "id": "6189fc4c-7cf4-4caf-8154-00d0bf54f562",
   "metadata": {},
   "outputs": [
    {
     "name": "stdout",
     "output_type": "stream",
     "text": [
      "{65, 67, 4, 5, 1, 45}\n"
     ]
    }
   ],
   "source": [
    "print(daily_pints_log ^ wifes_daily_pints_log) #elements who are in one set or the other but not in both"
   ]
  },
  {
   "cell_type": "code",
   "execution_count": 665,
   "id": "07e37ca4-7c8e-4f88-8c17-e4f13a07eb29",
   "metadata": {},
   "outputs": [
    {
     "name": "stdout",
     "output_type": "stream",
     "text": [
      "{1, 65, 67, 4, 5, 45}\n"
     ]
    }
   ],
   "source": [
    "print(wifes_daily_pints_log ^ daily_pints_log) "
   ]
  },
  {
   "cell_type": "markdown",
   "id": "040d4a14-9b67-4827-a2a3-b34247f01ea2",
   "metadata": {},
   "source": [
    "## 7. DICTIONARIES"
   ]
  },
  {
   "cell_type": "code",
   "execution_count": 668,
   "id": "33bcc4da-ce5c-4607-a904-1d4c0e03fd29",
   "metadata": {},
   "outputs": [],
   "source": [
    "dict_cream = {'name': 'Alex Freberg', 'weekly intake': 5, 'favorite ice creams': ['MCC','Chocolate']}"
   ]
  },
  {
   "cell_type": "code",
   "execution_count": 670,
   "id": "4f3e38d6-9d31-44ec-8b2b-cd9a146b9bc1",
   "metadata": {},
   "outputs": [
    {
     "data": {
      "text/plain": [
       "dict"
      ]
     },
     "execution_count": 670,
     "metadata": {},
     "output_type": "execute_result"
    }
   ],
   "source": [
    "type (dict_cream)"
   ]
  },
  {
   "cell_type": "code",
   "execution_count": 672,
   "id": "d7d50bdb-81c3-4670-9f5d-bcc76011dad1",
   "metadata": {},
   "outputs": [
    {
     "data": {
      "text/plain": [
       "{'name': 'Alex Freberg',\n",
       " 'weekly intake': 5,\n",
       " 'favorite ice creams': ['MCC', 'Chocolate']}"
      ]
     },
     "execution_count": 672,
     "metadata": {},
     "output_type": "execute_result"
    }
   ],
   "source": [
    "dict_cream"
   ]
  },
  {
   "cell_type": "code",
   "execution_count": 673,
   "id": "ec2f6037-9af9-48f4-afdf-e007e0e1e13d",
   "metadata": {},
   "outputs": [
    {
     "name": "stdout",
     "output_type": "stream",
     "text": [
      "{'name': 'Alex Freberg', 'weekly intake': 5, 'favorite ice creams': ['MCC', 'Chocolate']}\n"
     ]
    }
   ],
   "source": [
    "print(dict_cream)"
   ]
  },
  {
   "cell_type": "code",
   "execution_count": 674,
   "id": "86cf619e-021f-4039-88be-ad7db8eafb61",
   "metadata": {},
   "outputs": [
    {
     "data": {
      "text/plain": [
       "dict_values(['Alex Freberg', 5, ['MCC', 'Chocolate']])"
      ]
     },
     "execution_count": 674,
     "metadata": {},
     "output_type": "execute_result"
    }
   ],
   "source": [
    "dict_cream.values() #show the values"
   ]
  },
  {
   "cell_type": "code",
   "execution_count": 675,
   "id": "54e5cd08-31b5-48d3-aa3e-108d4ad0ebd5",
   "metadata": {},
   "outputs": [
    {
     "data": {
      "text/plain": [
       "dict_keys(['name', 'weekly intake', 'favorite ice creams'])"
      ]
     },
     "execution_count": 675,
     "metadata": {},
     "output_type": "execute_result"
    }
   ],
   "source": [
    "dict_cream.keys() #show the keys"
   ]
  },
  {
   "cell_type": "code",
   "execution_count": 676,
   "id": "dcfbeba4-390c-49e9-aaca-693c18fad85a",
   "metadata": {},
   "outputs": [
    {
     "data": {
      "text/plain": [
       "dict_items([('name', 'Alex Freberg'), ('weekly intake', 5), ('favorite ice creams', ['MCC', 'Chocolate'])])"
      ]
     },
     "execution_count": 676,
     "metadata": {},
     "output_type": "execute_result"
    }
   ],
   "source": [
    "dict_cream.items() #show the key|value pairs (items)"
   ]
  },
  {
   "cell_type": "code",
   "execution_count": 677,
   "id": "6a21c373-6bbc-4232-ac79-59ddcaae5d04",
   "metadata": {},
   "outputs": [
    {
     "ename": "KeyError",
     "evalue": "0",
     "output_type": "error",
     "traceback": [
      "\u001b[1;31m---------------------------------------------------------------------------\u001b[0m",
      "\u001b[1;31mKeyError\u001b[0m                                  Traceback (most recent call last)",
      "Cell \u001b[1;32mIn[677], line 1\u001b[0m\n\u001b[1;32m----> 1\u001b[0m dict_cream[\u001b[38;5;241m0\u001b[39m]\n",
      "\u001b[1;31mKeyError\u001b[0m: 0"
     ]
    }
   ],
   "source": [
    "dict_cream[0] #nope!"
   ]
  },
  {
   "cell_type": "code",
   "execution_count": 690,
   "id": "21bd5ba0-185e-4efb-a1e8-0d0159220b98",
   "metadata": {},
   "outputs": [
    {
     "data": {
      "text/plain": [
       "'Alex Freberg'"
      ]
     },
     "execution_count": 690,
     "metadata": {},
     "output_type": "execute_result"
    }
   ],
   "source": [
    "dict_cream['name'] #show the key's value"
   ]
  },
  {
   "cell_type": "code",
   "execution_count": 692,
   "id": "44d542a6-5114-4ee0-a353-b3c34133da37",
   "metadata": {},
   "outputs": [
    {
     "data": {
      "text/plain": [
       "'Christine Freberg'"
      ]
     },
     "execution_count": 692,
     "metadata": {},
     "output_type": "execute_result"
    }
   ],
   "source": [
    "dict_cream['name'] = 'Christine Freberg' #update\n",
    "\n",
    "dict_cream['name']"
   ]
  },
  {
   "cell_type": "code",
   "execution_count": 693,
   "id": "7b11b994-6f3b-4d08-822b-6adcab8000cb",
   "metadata": {},
   "outputs": [
    {
     "name": "stdout",
     "output_type": "stream",
     "text": [
      "{'name': 'Christine Freberg', 'weekly intake': 5, 'favorite ice creams': ['MCC', 'Chocolate']}\n"
     ]
    }
   ],
   "source": [
    "print(dict_cream)"
   ]
  },
  {
   "cell_type": "code",
   "execution_count": 694,
   "id": "494ff409-eaa9-4b89-88c3-e31a052dbf5f",
   "metadata": {},
   "outputs": [
    {
     "name": "stdout",
     "output_type": "stream",
     "text": [
      "{'name': 'Christine Freberg', 'weekly intake': 5, 'favorite ice creams': ['MCC', 'Chocolate'], 'weight': 300}\n"
     ]
    }
   ],
   "source": [
    "dict_cream.update({'name': 'Christine Freberg', 'weekly intake': 5, 'weight': 300}) # it only adds the new pair, it doesn't delete anything\n",
    "\n",
    "print(dict_cream) # show the updated value of the variable"
   ]
  },
  {
   "cell_type": "code",
   "execution_count": 695,
   "id": "54bba702-e8ef-4a62-8484-b9ef66a0a7b1",
   "metadata": {},
   "outputs": [
    {
     "name": "stdout",
     "output_type": "stream",
     "text": [
      "{'name': 'Christine Freberg', 'weekly intake': 10, 'favorite ice creams': ['MCC', 'Chocolate'], 'weight': 300}\n"
     ]
    }
   ],
   "source": [
    "dict_cream.update({'name': 'Christine Freberg', 'weekly intake': 10, 'weight': 300}) # it changes pair\n",
    "\n",
    "print(dict_cream) # show the updated value of the variable"
   ]
  },
  {
   "cell_type": "code",
   "execution_count": 696,
   "id": "30939979-aae0-43d8-8a9f-0cc8d2436aba",
   "metadata": {},
   "outputs": [
    {
     "name": "stdout",
     "output_type": "stream",
     "text": [
      "{'name': 'Christine Freberg', 'weekly intake': 10, 'favorite ice creams': ['MCC', 'Chocolate']}\n"
     ]
    }
   ],
   "source": [
    "del dict_cream['weight'] #delete the key|value pair\n",
    "\n",
    "print(dict_cream) # show the updated value of the variable"
   ]
  },
  {
   "cell_type": "code",
   "execution_count": null,
   "id": "67b82cd5-7c64-446c-bbe0-8446ea6e4e5b",
   "metadata": {},
   "outputs": [],
   "source": []
  }
 ],
 "metadata": {
  "kernelspec": {
   "display_name": "Python 3 (ipykernel)",
   "language": "python",
   "name": "python3"
  },
  "language_info": {
   "codemirror_mode": {
    "name": "ipython",
    "version": 3
   },
   "file_extension": ".py",
   "mimetype": "text/x-python",
   "name": "python",
   "nbconvert_exporter": "python",
   "pygments_lexer": "ipython3",
   "version": "3.12.7"
  }
 },
 "nbformat": 4,
 "nbformat_minor": 5
}
